{
 "cells": [
  {
   "cell_type": "code",
   "execution_count": 54,
   "metadata": {},
   "outputs": [
    {
     "name": "stdout",
     "output_type": "stream",
     "text": [
      "102.4807317554378\n",
      "0.0\n",
      "0.0\n",
      "0.0\n",
      "0.0\n",
      "0.0\n",
      "0.0\n",
      "0.0\n",
      "0.0\n",
      "0.0\n",
      "0.0\n",
      "0.0\n",
      "0.0\n",
      "0.0\n",
      "0.0\n",
      "0.0\n",
      "0.0\n",
      "0.0\n",
      "0.0\n",
      "0.0\n",
      "0.0\n"
     ]
    },
    {
     "data": {
      "text/plain": [
       "[]"
      ]
     },
     "execution_count": 54,
     "metadata": {},
     "output_type": "execute_result"
    }
   ],
   "source": [
    "import numpy as np\n",
    "from mpmath import *\n",
    "import sympy as sp\n",
    "from numpy import linalg as LA\n",
    "\n",
    "# Load Data file which contain position of each atom within cutoff radious\n",
    "\n",
    "pos = np.loadtxt(\"position.txt\")\n",
    "x=[]\n",
    "y=[]\n",
    "z=[]\n",
    "\n",
    "for line in pos:\n",
    "    x.append(line[0])\n",
    "    y.append(line[1])\n",
    "    z.append(line[2])\n",
    "    \n",
    "# position of selected atom\n",
    "xc = 60.8857\n",
    "yc = 77.0608\n",
    "zc = 2.59301\n",
    "\n",
    "\n",
    "#N =len(x)   # total number of atom inside the cutoff radious r=10\n",
    "N=5\n",
    "l=2\n",
    "\n",
    "\n",
    "def position(x,y,z,xc,yc,zc,N):\n",
    "    \"\"\"Position function takes all atom position of all atoms about reference atom (xc,yc,zc) in terms of (x,y,z)\n",
    "    co-ordinates and return position matrix ,theta(θ) and phi(φ) which represent colatitude (polar angle) and the \n",
    "    longitude φ, or azimuth.\n",
    "    \n",
    "\n",
    "    Args:\n",
    "        x ([float]): [position x]\n",
    "        y ([float]): [position y]\n",
    "        z ([float]): [position z]\n",
    "        xc ([float]): [x position of reference atom xc ]\n",
    "        yc ([float]): [y position of reference atom yc ]\n",
    "        zc ([float]): [z position of reference atom zc ]\n",
    "        N ([int]): [Number atoms]\n",
    "\n",
    "    Returns:\n",
    "        [list]: [position of each atom: r_ij,theta,phi]\n",
    "    \"\"\"\n",
    "    r_ij = np.empty(shape=[N,N],dtype='object')\n",
    "    r=np.empty(shape=[N,N],dtype='object')\n",
    "    phi_ij= np.empty(shape=[N,N],dtype='object')\n",
    "    theta_ij = np.empty(shape=[N,N],dtype='object')\n",
    "    \n",
    "    for i in range(N):\n",
    "        for j in range(N):\n",
    "            r_ij[i][j]=(x[j]-x[i]-xc),(y[j]-y[i]-yc),(z[j]-z[i]-zc)\n",
    "            \n",
    "            r [i][j]= LA.norm(r_ij[i][j])\n",
    "            theta_ij[i][j] = float(asin(sqrt((x[j]-x[i]-xc)*(x[j]-x[i]-xc)+(y[j]-y[i]-yc)*(y[j]-y[i]-yc))/r[i][j]))\n",
    "            phi_ij[i][j] = float(acot((y[j]-y[i]-yc)/(x[j]-x[i]-xc)))\n",
    "    return (r_ij,r,theta_ij,phi_ij)\n",
    "r_ij,r,theta_ij,phi_ij=position(x,y,z,xc,yc,zc, N)\n",
    "\n",
    "def f_c(d_cutoff,xc,yc,zc,N):    \n",
    "    fc=np.empty([N,N])    \n",
    "    r_cutoff=np.sqrt((xc+d_cutoff)**2+(yc+d_cutoff)**2+(zc+d_cutoff)*2)#cutoff 10 radious in angstrom\n",
    "    print(r_cutoff)\n",
    "    #print(r)\n",
    "    for i in range(N):\n",
    "        for j in range(N):\n",
    "            if np.sqrt(r[i][j]**2)<np.sqrt(r_cutoff**2):\n",
    "                fc[i][j] = (np.cos(np.pi*r[i][j]/rc)+1)*0.5\n",
    "            else:\n",
    "                fc[i][j]=0\n",
    "    return (fc)\n",
    "\n",
    "F_c = f_c(3,xc,yc,zc,N)   \n",
    "\n",
    "#two body symmetry function\n",
    "n=0.002\n",
    "sum=0\n",
    "G=[]\n",
    "for i in range(N):\n",
    "    for j in range(N):\n",
    "        if i!=j:\n",
    "            print(np.exp((-n*(r[i][j]**2)-(r_cutoff**2)))*F_c[i][j])\n",
    "    #G.append(sum)\n",
    "G"
   ]
  },
  {
   "cell_type": "code",
   "execution_count": 29,
   "metadata": {},
   "outputs": [
    {
     "data": {
      "text/plain": [
       "12629.551381129999"
      ]
     },
     "execution_count": 29,
     "metadata": {},
     "output_type": "execute_result"
    }
   ],
   "source": [
    "12629.551381129999"
   ]
  },
  {
   "cell_type": "code",
   "execution_count": 30,
   "metadata": {},
   "outputs": [
    {
     "data": {
      "text/plain": [
       "mpf('112.38127682639131')"
      ]
     },
     "execution_count": 30,
     "metadata": {},
     "output_type": "execute_result"
    }
   ],
   "source": [
    "sqrt(_)"
   ]
  },
  {
   "cell_type": "code",
   "execution_count": null,
   "metadata": {},
   "outputs": [],
   "source": []
  }
 ],
 "metadata": {
  "kernelspec": {
   "display_name": "Python 3",
   "language": "python",
   "name": "python3"
  },
  "language_info": {
   "codemirror_mode": {
    "name": "ipython",
    "version": 3
   },
   "file_extension": ".py",
   "mimetype": "text/x-python",
   "name": "python",
   "nbconvert_exporter": "python",
   "pygments_lexer": "ipython3",
   "version": "3.7.6"
  }
 },
 "nbformat": 4,
 "nbformat_minor": 4
}
